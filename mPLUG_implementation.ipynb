{
  "nbformat": 4,
  "nbformat_minor": 0,
  "metadata": {
    "colab": {
      "provenance": []
    },
    "kernelspec": {
      "name": "python3",
      "display_name": "Python 3"
    },
    "language_info": {
      "name": "python"
    }
  },
  "cells": [
    {
      "cell_type": "code",
      "execution_count": null,
      "metadata": {
        "id": "54K3jrsgOgK5"
      },
      "outputs": [],
      "source": [
        "# Install dependencies\n",
        "!pip install torch torchvision torchaudio --index-url https://download.pytorch.org/whl/cu117\n",
        "!pip install transformers datasets tqdm\n",
        "\n",
        "# Clone the repository\n",
        "!git clone https://github.com/alibaba/AliceMind/tree/main/mPLUG\n",
        "%cd CSE597-Final-Project/mPLUG\n",
        "\n",
        "# Install additional requirements\n",
        "!pip install -r content/CSE597-Final-Project/mPLUG/requirements.txt"
      ]
    },
    {
      "cell_type": "code",
      "source": [
        "# Create dataset directories\n",
        "!mkdir -p data/coco\n",
        "\n",
        "# Download COCO dataset annotations\n",
        "!wget http://images.cocodataset.org/annotations/annotations_trainval2017.zip -P data/coco\n",
        "!wget http://images.cocodataset.org/annotations/image_info_test2017.zip -P data/coco\n",
        "\n",
        "# Unzip annotations\n",
        "!unzip data/coco/annotations_trainval2017.zip -d data/coco\n",
        "!unzip data/coco/image_info_test2017.zip -d data/coco\n",
        "\n",
        "# Download COCO train and validation images\n",
        "!wget http://images.cocodataset.org/zips/train2017.zip -P data/coco\n",
        "!wget http://images.cocodataset.org/zips/val2017.zip -P data/coco\n",
        "\n",
        "# Unzip images (this step takes time)\n",
        "!unzip data/coco/train2017.zip -d data/coco\n",
        "!unzip data/coco/val2017.zip -d data/coco"
      ],
      "metadata": {
        "id": "F3BgTm8qOlYB"
      },
      "execution_count": null,
      "outputs": []
    },
    {
      "cell_type": "code",
      "source": [
        "# Update dataset paths in the config file\n",
        "import fileinput\n",
        "\n",
        "config_file = \"configs/caption_mplug_base.yaml\"\n",
        "with fileinput.FileInput(config_file, inplace=True) as file:\n",
        "    for line in file:\n",
        "        print(line.replace(\"data/coco\", \"/content/CSE597-Final-Project/mPLUG/data/coco\"), end=\"\")"
      ],
      "metadata": {
        "id": "rKm8s--ROsoV"
      },
      "execution_count": null,
      "outputs": []
    },
    {
      "cell_type": "code",
      "source": [
        "# Run the fine-tuning script for mPLUG Base\n",
        "!bash scripts/caption_mplug_base.sh"
      ],
      "metadata": {
        "id": "ztoowoE0OxZo"
      },
      "execution_count": null,
      "outputs": []
    },
    {
      "cell_type": "code",
      "source": [
        "# Run evaluation for mPLUG Base\n",
        "!bash scripts/eval_caption_mplug_base.sh"
      ],
      "metadata": {
        "id": "jdRvL-74O5l0"
      },
      "execution_count": null,
      "outputs": []
    },
    {
      "cell_type": "code",
      "source": [
        "!python tools/evaluate.py --config configs/caption_mplug_base.yaml --dataset nocaps"
      ],
      "metadata": {
        "id": "8DSg66PnO7nh"
      },
      "execution_count": null,
      "outputs": []
    },
    {
      "cell_type": "code",
      "source": [
        "from google.colab import files\n",
        "uploaded = files.upload()\n",
        "\n",
        "# Run inference\n",
        "import os\n",
        "\n",
        "image_path = list(uploaded.keys())[0]"
      ],
      "metadata": {
        "id": "d7UljiRfO-lG"
      },
      "execution_count": null,
      "outputs": []
    },
    {
      "cell_type": "code",
      "source": [
        "!python tools/inference.py --config configs/caption_mplug_base.yaml --image_path {image_path} # run inference"
      ],
      "metadata": {
        "id": "g6d7PIa8O_Nq"
      },
      "execution_count": null,
      "outputs": []
    },
    {
      "cell_type": "code",
      "source": [
        "# Update hyperparameters in the config file\n",
        "with fileinput.FileInput(\"configs/caption_mplug_base.yaml\", inplace=True) as file:\n",
        "    for line in file:\n",
        "        print(line.replace(\"BASE_LR: 1e-5\", \"BASE_LR: 5e-6\"), end=\"\")"
      ],
      "metadata": {
        "id": "GtiZ9LUTPJER"
      },
      "execution_count": null,
      "outputs": []
    }
  ]
}